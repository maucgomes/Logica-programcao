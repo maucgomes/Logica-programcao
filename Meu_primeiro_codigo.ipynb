{
  "nbformat": 4,
  "nbformat_minor": 0,
  "metadata": {
    "colab": {
      "provenance": [],
      "toc_visible": true,
      "authorship_tag": "ABX9TyOkqOnmmPYRlA+mDCZauKc2",
      "include_colab_link": true
    },
    "kernelspec": {
      "name": "python3",
      "display_name": "Python 3"
    },
    "language_info": {
      "name": "python"
    }
  },
  "cells": [
    {
      "cell_type": "markdown",
      "metadata": {
        "id": "view-in-github",
        "colab_type": "text"
      },
      "source": [
        "<a href=\"https://colab.research.google.com/github/maucgomes/Logica-programcao/blob/main/Meu_primeiro_codigo.ipynb\" target=\"_parent\"><img src=\"https://colab.research.google.com/assets/colab-badge.svg\" alt=\"Open In Colab\"/></a>"
      ]
    },
    {
      "cell_type": "code",
      "source": [
        "print(\"Conhecendo melhor o Python\")\n",
        "\n",
        "x = 8\n",
        "print(x)"
      ],
      "metadata": {
        "colab": {
          "base_uri": "https://localhost:8080/"
        },
        "id": "kGbhU5xWcS89",
        "outputId": "34584677-abe2-45ab-9847-4b4e216a02d9"
      },
      "execution_count": null,
      "outputs": [
        {
          "output_type": "stream",
          "name": "stdout",
          "text": [
            "Conhecendo melhor o Python\n",
            "8\n"
          ]
        }
      ]
    },
    {
      "cell_type": "code",
      "source": [
        "y =10\n",
        "soma = x+y\n",
        "print(soma)"
      ],
      "metadata": {
        "colab": {
          "base_uri": "https://localhost:8080/"
        },
        "id": "a6frE07Pc9px",
        "outputId": "c94b5213-e81d-4da8-bc91-486075c47f53"
      },
      "execution_count": null,
      "outputs": [
        {
          "output_type": "stream",
          "name": "stdout",
          "text": [
            "18\n"
          ]
        }
      ]
    },
    {
      "cell_type": "code",
      "source": [
        "print(\"O valor de x é:\",x)"
      ],
      "metadata": {
        "colab": {
          "base_uri": "https://localhost:8080/"
        },
        "id": "AaQCjDNj4hz3",
        "outputId": "cc4f710f-a6f1-4e04-8ff9-09dbdbb3f3b7"
      },
      "execution_count": null,
      "outputs": [
        {
          "output_type": "stream",
          "name": "stdout",
          "text": [
            "O valor de x é: 8\n"
          ]
        }
      ]
    },
    {
      "cell_type": "code",
      "source": [
        "print(\"O valor de x é:\",x, \"Multiplicado por 2 é:\", x*2)"
      ],
      "metadata": {
        "colab": {
          "base_uri": "https://localhost:8080/"
        },
        "id": "gnORK6j64q-L",
        "outputId": "388edf93-eee5-4227-94f9-ef4dc9bc68fe"
      },
      "execution_count": null,
      "outputs": [
        {
          "output_type": "stream",
          "name": "stdout",
          "text": [
            "O valor de x é: 8 Multiplicado por 2 é: 16\n"
          ]
        }
      ]
    },
    {
      "cell_type": "code",
      "source": [
        "nome = 'Mauricio'\n",
        "print('Meu nome é:',nome)\n"
      ],
      "metadata": {
        "colab": {
          "base_uri": "https://localhost:8080/"
        },
        "id": "B4Zf_yRD40EQ",
        "outputId": "0e9ec0bf-fb79-4a7d-ba99-8120c3f2de9d"
      },
      "execution_count": null,
      "outputs": [
        {
          "output_type": "stream",
          "name": "stdout",
          "text": [
            "Meu nome é: Mauricio\n"
          ]
        }
      ]
    },
    {
      "cell_type": "code",
      "source": [
        "from os import pidfd_open\n",
        "x = 10\n",
        "type(x)\n",
        "print('x', type(x))\n",
        "\n",
        "\n",
        "nome = 'Mauricio'\n",
        "print('nome', type(nome))"
      ],
      "metadata": {
        "colab": {
          "base_uri": "https://localhost:8080/"
        },
        "id": "Z56yTmsD45d5",
        "outputId": "be5f9b5c-3347-43d7-fb24-560fb9bc74da"
      },
      "execution_count": null,
      "outputs": [
        {
          "output_type": "stream",
          "name": "stdout",
          "text": [
            "x <class 'int'>\n",
            "nome <class 'str'>\n"
          ]
        }
      ]
    },
    {
      "cell_type": "code",
      "source": [
        "num = '100'\n",
        "print('num', type(num))\n",
        "num_int = int(num)\n",
        "print('num_int', type(num_int))"
      ],
      "metadata": {
        "colab": {
          "base_uri": "https://localhost:8080/"
        },
        "id": "eiLpFFXq5Jwp",
        "outputId": "2ddc5fc0-f6f8-4210-e43c-c3b35821422c"
      },
      "execution_count": null,
      "outputs": [
        {
          "output_type": "stream",
          "name": "stdout",
          "text": [
            "num <class 'str'>\n",
            "num_int <class 'int'>\n"
          ]
        }
      ]
    },
    {
      "cell_type": "markdown",
      "source": [
        "## Input\n",
        "*Armazenar a informação\n",
        "* O dado armazenado sempre será um texto"
      ],
      "metadata": {
        "id": "M4GMrMKI5v0r"
      }
    },
    {
      "cell_type": "code",
      "source": [
        "nome = input('Qual o seu nome?')\n",
        "print('Olá', nome)"
      ],
      "metadata": {
        "colab": {
          "base_uri": "https://localhost:8080/"
        },
        "id": "zTm-b-9a6D2g",
        "outputId": "b6518123-cccd-49b9-9ac1-806b203efbb0"
      },
      "execution_count": null,
      "outputs": [
        {
          "output_type": "stream",
          "name": "stdout",
          "text": [
            "Qual o seu nome?Mauricio\n",
            "Olá Mauricio\n"
          ]
        }
      ]
    },
    {
      "cell_type": "code",
      "source": [
        "valor = input('Digite o valor de um produto')\n",
        "print(valor)"
      ],
      "metadata": {
        "colab": {
          "base_uri": "https://localhost:8080/"
        },
        "id": "tQUYtrOv7Aa8",
        "outputId": "083a54b3-438c-42c8-d73c-f42b32cd7742"
      },
      "execution_count": null,
      "outputs": [
        {
          "output_type": "stream",
          "name": "stdout",
          "text": [
            "Digite o valor de um produto100\n",
            "100\n"
          ]
        }
      ]
    },
    {
      "cell_type": "code",
      "source": [
        "desconto = int(valor) - 5\n",
        "desconto"
      ],
      "metadata": {
        "colab": {
          "base_uri": "https://localhost:8080/"
        },
        "id": "ScM780wv7T1z",
        "outputId": "b943d0b9-2017-4a32-f4cf-e4cd8586a367"
      },
      "execution_count": null,
      "outputs": [
        {
          "output_type": "execute_result",
          "data": {
            "text/plain": [
              "95"
            ]
          },
          "metadata": {},
          "execution_count": 26
        }
      ]
    },
    {
      "cell_type": "code",
      "source": [],
      "metadata": {
        "id": "KHCB1KvN8O8b"
      },
      "execution_count": null,
      "outputs": []
    },
    {
      "cell_type": "markdown",
      "source": [
        "#Condicional"
      ],
      "metadata": {
        "id": "I10dn0WK93rv"
      }
    },
    {
      "cell_type": "code",
      "source": [
        "if 5 >10:\n",
        "  print('5 é menor que 10')"
      ],
      "metadata": {
        "id": "1GRAcb5c-AYe"
      },
      "execution_count": null,
      "outputs": []
    },
    {
      "cell_type": "markdown",
      "source": [],
      "metadata": {
        "id": "7E4GexBi946T"
      }
    },
    {
      "cell_type": "code",
      "source": [
        "num1 = 1\n",
        "num2 = 5\n",
        "if num1 > num2:\n",
        "  print('num1 é maior que num2')\n",
        "else:\n",
        "  print('num2 não é maior que num1')"
      ],
      "metadata": {
        "colab": {
          "base_uri": "https://localhost:8080/"
        },
        "id": "NM8ayw8Y-TOZ",
        "outputId": "6d667d9d-6f33-4a63-e109-b91302990c40"
      },
      "execution_count": null,
      "outputs": [
        {
          "output_type": "stream",
          "name": "stdout",
          "text": [
            "num2 não é maior que num1\n"
          ]
        }
      ]
    },
    {
      "cell_type": "code",
      "source": [
        "num1 = 10\n",
        "num2 = 10\n",
        "if num1 > num2:\n",
        "  print('num1 é maior que num2')\n",
        "elif num2<num1:\n",
        "  print('num2 não é maior que num1')\n",
        "else:\n",
        "  print('num1 é igual a num2')"
      ],
      "metadata": {
        "colab": {
          "base_uri": "https://localhost:8080/"
        },
        "id": "_hB8yWIF-cnY",
        "outputId": "5b8f031e-c427-4bde-a6b1-1d82aaca5ec7"
      },
      "execution_count": null,
      "outputs": [
        {
          "output_type": "stream",
          "name": "stdout",
          "text": [
            "num1 é igual a num2\n"
          ]
        }
      ]
    },
    {
      "cell_type": "code",
      "source": [
        "num1 = 10\n",
        "num2 = 50\n",
        "num3 = 200\n",
        "if num1 > num2 and num1 > num3:\n",
        "  print('num1 é o maior numero')\n",
        "elif num2 > num1 and num2 > num3:\n",
        "  print('num2 é o maior numero')\n",
        "else:\n",
        "  print('num3 é o maior numero')"
      ],
      "metadata": {
        "colab": {
          "base_uri": "https://localhost:8080/"
        },
        "id": "kbvytYAR-rTn",
        "outputId": "b37b830e-293a-42c4-97b4-12b91ede5560"
      },
      "execution_count": null,
      "outputs": [
        {
          "output_type": "stream",
          "name": "stdout",
          "text": [
            "num3 é o maior numero\n"
          ]
        }
      ]
    },
    {
      "cell_type": "markdown",
      "source": [],
      "metadata": {
        "id": "0VhwnABbtLM7"
      }
    },
    {
      "cell_type": "markdown",
      "source": [
        "# Lista\n"
      ],
      "metadata": {
        "id": "SRqLw8yFtTtB"
      }
    },
    {
      "cell_type": "code",
      "source": [
        "lista = [1,2,3,4,5]\n",
        "print(lista)\n",
        "type(lista)"
      ],
      "metadata": {
        "colab": {
          "base_uri": "https://localhost:8080/"
        },
        "id": "Ed_HEer4texQ",
        "outputId": "b831f92e-ea4a-4aba-c66b-d76f3ea9f397"
      },
      "execution_count": null,
      "outputs": [
        {
          "output_type": "stream",
          "name": "stdout",
          "text": [
            "[1, 2, 3, 4, 5]\n"
          ]
        },
        {
          "output_type": "execute_result",
          "data": {
            "text/plain": [
              "list"
            ]
          },
          "metadata": {},
          "execution_count": 5
        }
      ]
    },
    {
      "cell_type": "code",
      "source": [
        "lista.append(6)\n",
        "print(lista)"
      ],
      "metadata": {
        "colab": {
          "base_uri": "https://localhost:8080/"
        },
        "id": "7MUK5UGjtuAl",
        "outputId": "22d07ac9-04b1-43ce-94cc-2041641752cb"
      },
      "execution_count": null,
      "outputs": [
        {
          "output_type": "stream",
          "name": "stdout",
          "text": [
            "[1, 2, 3, 4, 5, 6]\n"
          ]
        }
      ]
    },
    {
      "cell_type": "code",
      "source": [
        "lista[2]"
      ],
      "metadata": {
        "colab": {
          "base_uri": "https://localhost:8080/"
        },
        "id": "C-0vksBat0Kh",
        "outputId": "f8ca7267-0107-4052-f88d-ae1f0e89572d"
      },
      "execution_count": null,
      "outputs": [
        {
          "output_type": "execute_result",
          "data": {
            "text/plain": [
              "3"
            ]
          },
          "metadata": {},
          "execution_count": 7
        }
      ]
    },
    {
      "cell_type": "markdown",
      "source": [
        "#Tuplas"
      ],
      "metadata": {
        "id": "-ApxoEt0t9Ob"
      }
    },
    {
      "cell_type": "code",
      "source": [
        "tupla = (1,\"Mauricio\",3,4,5)\n",
        "print(tupla)\n",
        "type(tupla)"
      ],
      "metadata": {
        "colab": {
          "base_uri": "https://localhost:8080/"
        },
        "id": "bRPKtH0at_CA",
        "outputId": "f6ff3726-6dd7-4092-f8d6-13deb243b0aa"
      },
      "execution_count": null,
      "outputs": [
        {
          "output_type": "stream",
          "name": "stdout",
          "text": [
            "(1, 'Mauricio', 3, 4, 5)\n"
          ]
        },
        {
          "output_type": "execute_result",
          "data": {
            "text/plain": [
              "tuple"
            ]
          },
          "metadata": {},
          "execution_count": 8
        }
      ]
    },
    {
      "cell_type": "markdown",
      "source": [
        "#Dicionario"
      ],
      "metadata": {
        "id": "Ip6dLTq0uNX8"
      }
    },
    {
      "cell_type": "code",
      "source": [
        "dicionario = {'nome':'Mauricio','cidade':'Bauru','idade':38}\n",
        "print(dicionario[\"idade\"])"
      ],
      "metadata": {
        "id": "j03uJhFEuOp-",
        "colab": {
          "base_uri": "https://localhost:8080/"
        },
        "outputId": "7738a2fd-631e-4bd0-8c36-cadb7b23650a"
      },
      "execution_count": null,
      "outputs": [
        {
          "output_type": "stream",
          "name": "stdout",
          "text": [
            "38\n"
          ]
        }
      ]
    },
    {
      "cell_type": "code",
      "source": [
        "dicionario['profissao'] = 'TI'"
      ],
      "metadata": {
        "id": "9-iWAu71vCcO"
      },
      "execution_count": null,
      "outputs": []
    },
    {
      "cell_type": "code",
      "source": [
        "dicionario"
      ],
      "metadata": {
        "colab": {
          "base_uri": "https://localhost:8080/"
        },
        "id": "sZal0HSIvVAc",
        "outputId": "c361188b-9435-4af2-9b46-a371eb801786"
      },
      "execution_count": null,
      "outputs": [
        {
          "output_type": "execute_result",
          "data": {
            "text/plain": [
              "{'nome': 'Mauricio', 'cidade': 'Bauru', 'idade': 38, 'profissao': 'TI'}"
            ]
          },
          "metadata": {},
          "execution_count": 22
        }
      ]
    },
    {
      "cell_type": "markdown",
      "source": [
        "## Loops"
      ],
      "metadata": {
        "id": "y5pWv-QevgCe"
      }
    },
    {
      "cell_type": "code",
      "source": [
        "for contador in range(10):\n",
        "  print(contador)"
      ],
      "metadata": {
        "colab": {
          "base_uri": "https://localhost:8080/"
        },
        "id": "iQ3UvxazvoB-",
        "outputId": "fc40cd8f-6734-4b76-a69a-8c7db1c3e490"
      },
      "execution_count": null,
      "outputs": [
        {
          "output_type": "stream",
          "name": "stdout",
          "text": [
            "0\n",
            "1\n",
            "2\n",
            "3\n",
            "4\n",
            "5\n",
            "6\n",
            "7\n",
            "8\n",
            "9\n"
          ]
        }
      ]
    },
    {
      "cell_type": "code",
      "source": [
        "for contador in range(1000):\n",
        "  print(contador)\n",
        "  if contador == 2:\n",
        "    break"
      ],
      "metadata": {
        "colab": {
          "base_uri": "https://localhost:8080/"
        },
        "id": "gGzHIrEfuFmX",
        "outputId": "e60429da-ec6e-4e3d-f120-abeb6a165bbe"
      },
      "execution_count": null,
      "outputs": [
        {
          "output_type": "stream",
          "name": "stdout",
          "text": [
            "0\n",
            "1\n",
            "2\n"
          ]
        }
      ]
    },
    {
      "cell_type": "code",
      "source": [
        "lista = ['Teste1','Teste2']"
      ],
      "metadata": {
        "id": "mvgo7yo-uQY4"
      },
      "execution_count": null,
      "outputs": []
    },
    {
      "cell_type": "code",
      "source": [
        "for i in lista:\n",
        "  print(i)"
      ],
      "metadata": {
        "colab": {
          "base_uri": "https://localhost:8080/"
        },
        "id": "KJ7GY4c9uX1x",
        "outputId": "bc5a0c4d-2882-45ae-bbd0-afec35714649"
      },
      "execution_count": null,
      "outputs": [
        {
          "output_type": "stream",
          "name": "stdout",
          "text": [
            "Teste1\n",
            "Teste2\n"
          ]
        }
      ]
    },
    {
      "cell_type": "code",
      "source": [
        "for i, val in enumerate(lista):\n",
        "  print(i,val)"
      ],
      "metadata": {
        "colab": {
          "base_uri": "https://localhost:8080/"
        },
        "id": "ewSQ3JeVufgj",
        "outputId": "64583ef4-3cad-4eac-b1e9-f16763b4237c"
      },
      "execution_count": null,
      "outputs": [
        {
          "output_type": "stream",
          "name": "stdout",
          "text": [
            "0 Teste1\n",
            "1 Teste2\n"
          ]
        }
      ]
    },
    {
      "cell_type": "code",
      "source": [
        "num = 10\n",
        "for i in range(10):\n",
        "  num *= 2\n",
        "  print(num)"
      ],
      "metadata": {
        "colab": {
          "base_uri": "https://localhost:8080/"
        },
        "id": "lIaVhRbvumO2",
        "outputId": "f2a1e2a3-b1b0-439f-b4c3-0c5223e39e8c"
      },
      "execution_count": null,
      "outputs": [
        {
          "output_type": "stream",
          "name": "stdout",
          "text": [
            "20\n",
            "40\n",
            "80\n",
            "160\n",
            "320\n",
            "640\n",
            "1280\n",
            "2560\n",
            "5120\n",
            "10240\n"
          ]
        }
      ]
    },
    {
      "cell_type": "markdown",
      "source": [
        "#While"
      ],
      "metadata": {
        "id": "PXfoZRMWu2QP"
      }
    },
    {
      "cell_type": "code",
      "source": [
        "val = 1\n",
        "while (val < 6):\n",
        "  val *= 2\n",
        "  print(val)"
      ],
      "metadata": {
        "colab": {
          "base_uri": "https://localhost:8080/"
        },
        "id": "ZlqyFq3hvJFh",
        "outputId": "efc7d47a-d8a4-4865-ac21-f9a439ef9f80"
      },
      "execution_count": null,
      "outputs": [
        {
          "output_type": "stream",
          "name": "stdout",
          "text": [
            "2\n",
            "4\n",
            "8\n"
          ]
        }
      ]
    },
    {
      "cell_type": "code",
      "source": [
        "nota1 = input('Digite a primeira nota')\n",
        "nota2 = input(\"Digite a segunda nota\")\n",
        "\n",
        "media = (float(nota1) + float(nota2))/2\n",
        "print(media)"
      ],
      "metadata": {
        "colab": {
          "base_uri": "https://localhost:8080/"
        },
        "id": "MK8SqCKpvR6d",
        "outputId": "9a6021a6-0cb5-48dc-8523-42d08adfab3f"
      },
      "execution_count": null,
      "outputs": [
        {
          "output_type": "stream",
          "name": "stdout",
          "text": [
            "Digite a primeira nota7.8\n",
            "Digite a segunda nota6.2\n",
            "7.0\n"
          ]
        }
      ]
    },
    {
      "cell_type": "code",
      "source": [
        "nome = input(\"Qual seu nome?\")\n",
        "print(\"Olá,\",nome,\"!\")"
      ],
      "metadata": {
        "colab": {
          "base_uri": "https://localhost:8080/"
        },
        "id": "GNmRYnMWxh7G",
        "outputId": "25c640d1-c931-46f1-d736-017dcb9b1d6c"
      },
      "execution_count": null,
      "outputs": [
        {
          "output_type": "stream",
          "name": "stdout",
          "text": [
            "Qual seu nome?teste\n",
            "Olá, teste !\n"
          ]
        }
      ]
    },
    {
      "cell_type": "code",
      "source": [
        "feedbacks = [\"òtimo\",\"Excelente\",\"Rápido\"]\n",
        "print(type(feedbacks))\n",
        "\n",
        "cliente = {\n",
        "    \"nome\":\"Mauricio\",\n",
        "    \"idade\":38,\n",
        "    \"feedbacks\":feedbacks\n",
        "}\n",
        "print(type(cliente))\n",
        "\n",
        "\n",
        "\n",
        "print(\"feedbacks dos clientes\")\n",
        "\n",
        "for feedback in feedbacks:\n",
        "  print(\"-\"+feedback)\n",
        "\n",
        "print(\"\\nInformações do cliente:\")\n",
        "print(\"Nome:\", cliente[\"nome\"])\n",
        "print(\"Idade:\", cliente[\"idade\"])\n",
        "print(\"Feedback:\", cliente[\"feedbacks\"])\n"
      ],
      "metadata": {
        "colab": {
          "base_uri": "https://localhost:8080/"
        },
        "id": "ELaf0xsmAAua",
        "outputId": "c859a4da-c3f0-43df-ae63-c33a2ae67fa4"
      },
      "execution_count": null,
      "outputs": [
        {
          "output_type": "stream",
          "name": "stdout",
          "text": [
            "<class 'list'>\n",
            "<class 'dict'>\n",
            "feedbacks dos clientes\n",
            "-òtimo\n",
            "-Excelente\n",
            "-Rápido\n",
            "\n",
            "Informações do cliente:\n",
            "Nome: Mauricio\n",
            "Idade: 38\n",
            "Feedback: ['òtimo', 'Excelente', 'Rápido']\n"
          ]
        }
      ]
    },
    {
      "cell_type": "code",
      "source": [
        "notas = [85,92,78,90,88]\n",
        "\n",
        "soma = 0\n",
        "for nota in notas:\n",
        "  soma += nota\n",
        "\n",
        "media = soma / len(notas)\n",
        "print(\"A média das notas é:\", media)\n",
        "\n",
        "alunos_aprovados = []\n",
        "alunos_reprovados = []\n",
        "\n",
        "for nota in notas:\n",
        "  if nota >= media:\n",
        "    alunos_aprovados.append(nota)\n",
        "  else:\n",
        "    alunos_reprovados.append(nota)\n",
        "\n",
        "\n",
        "print(\"Nota dos alunos:\", notas)\n",
        "print(\"Media dos alunos:\", media)\n",
        "print(\"Alunos aprovados:\", alunos_aprovados)\n",
        "print(\"Alunos reprovados:\", alunos_reprovados)"
      ],
      "metadata": {
        "colab": {
          "base_uri": "https://localhost:8080/"
        },
        "id": "qdS13mSqBsKD",
        "outputId": "08a923b3-f572-4d12-f793-220ec1f20578"
      },
      "execution_count": null,
      "outputs": [
        {
          "output_type": "stream",
          "name": "stdout",
          "text": [
            "A média das notas é: 86.6\n",
            "Nota dos alunos: [85, 92, 78, 90, 88]\n",
            "Media dos alunos: 86.6\n",
            "Alunos aprovados: [92, 90, 88]\n",
            "Alunos reprovados: [85, 78]\n"
          ]
        }
      ]
    }
  ]
}