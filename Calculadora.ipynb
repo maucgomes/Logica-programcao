{
  "nbformat": 4,
  "nbformat_minor": 0,
  "metadata": {
    "colab": {
      "provenance": []
    },
    "kernelspec": {
      "name": "python3",
      "display_name": "Python 3"
    },
    "language_info": {
      "name": "python"
    }
  },
  "cells": [
    {
      "cell_type": "code",
      "execution_count": 18,
      "metadata": {
        "colab": {
          "base_uri": "https://localhost:8080/"
        },
        "id": "mwhDkLITlgki",
        "outputId": "e10870ae-e18f-429d-831f-00d20e16944d"
      },
      "outputs": [
        {
          "output_type": "stream",
          "name": "stdout",
          "text": [
            "\n",
            " Qual o seu nome: valen\n",
            "\n",
            "Digite um numero: 999022\n",
            "\n",
            "Digite outro numero: 29\n",
            "\n",
            " Digite o operador (+.-.*,/): -\n",
            "\n",
            "Resultado é: 998993.0\n",
            "\n",
            "Deseja continuar? (s/n): s\n",
            "\n",
            "Digite um numero: 745123963\n",
            "\n",
            "Digite outro numero: 0\n",
            "\n",
            " Digite o operador (+.-.*,/): /*-\n",
            "Operador invalido\n"
          ]
        }
      ],
      "source": [
        "\n",
        "continuar = 's'\n",
        "nome = input(\"\\n Qual o seu nome: \")\n",
        "# recebendo valores do usuario\n",
        "while continuar == 's': ## loop para continuar calculadora\n",
        "\n",
        "  num1 = float(input('\\nDigite um numero: '))\n",
        "  num2 = float(input('\\nDigite outro numero: '))\n",
        "\n",
        "#Operador Matematico (+.-.*,/)\n",
        "  operador = input('\\n Digite o operador (+.-.*,/): ')\n",
        "\n",
        "# realiza a operação desejada pelo usuario\n",
        "  if operador == '+':\n",
        "    resultado = num1 + num2\n",
        "  elif operador == '-':\n",
        "    resultado = num1 - num2\n",
        "  elif operador == '*':\n",
        "    resultado = num1 * num2\n",
        "  elif operador == '/':\n",
        "    resultado = num1 / num2\n",
        "  else:\n",
        "    print('Operador invalido')\n",
        "    break\n",
        "\n",
        "# Imprime resultado em tela\n",
        "  print(\"\\nResultado é:\", resultado)\n",
        "\n",
        "# pergunta se usuario quer continuar\n",
        "  continuar = input(\"\\nDeseja continuar? (s/n): \")\n",
        "else:\n",
        "  print(\"\\n Obrigado por usar a calculadora\", nome)"
      ]
    }
  ]
}